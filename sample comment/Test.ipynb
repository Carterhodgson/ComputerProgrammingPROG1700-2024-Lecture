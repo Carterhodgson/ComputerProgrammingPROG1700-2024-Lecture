{
 "cells": [
  {
   "cell_type": "code",
   "execution_count": 8,
   "metadata": {
    "dotnet_interactive": {
     "language": "csharp"
    },
    "polyglot_notebook": {
     "kernelName": "csharp"
    }
   },
   "outputs": [
    {
     "ename": "Error",
     "evalue": "(1,12): error CS1002: ; expected",
     "output_type": "error",
     "traceback": [
      "(1,12): error CS1002: ; expected"
     ]
    }
   ],
   "source": [
    "Write-Host \"Hello World!\""
   ]
  },
  {
   "cell_type": "code",
   "execution_count": 9,
   "metadata": {},
   "outputs": [
    {
     "ename": "Error",
     "evalue": "(1,2): error CS1024: Preprocessor directive expected\r\n(2,12): error CS1002: ; expected",
     "output_type": "error",
     "traceback": [
      "(1,2): error CS1024: Preprocessor directive expected\r\n",
      "(2,12): error CS1002: ; expected"
     ]
    }
   ],
   "source": [
    "#The standard way to output text to the console\n",
    "Write-Host \"Same text to display\""
   ]
  },
  {
   "cell_type": "code",
   "execution_count": 10,
   "metadata": {},
   "outputs": [
    {
     "ename": "Error",
     "evalue": "(1,2): error CS1024: Preprocessor directive expected",
     "output_type": "error",
     "traceback": [
      "(1,2): error CS1024: Preprocessor directive expected"
     ]
    }
   ],
   "source": [
    "#simple math using write-host\n",
    "Write-Host (1+1)"
   ]
  },
  {
   "cell_type": "code",
   "execution_count": 11,
   "metadata": {},
   "outputs": [
    {
     "ename": "Error",
     "evalue": "(1,12): error CS1002: ; expected",
     "output_type": "error",
     "traceback": [
      "(1,12): error CS1002: ; expected"
     ]
    }
   ],
   "source": [
    "Write-host \"1+1=\" (1+1)"
   ]
  },
  {
   "cell_type": "code",
   "execution_count": 12,
   "metadata": {},
   "outputs": [
    {
     "ename": "Error",
     "evalue": "(1,2): error CS1024: Preprocessor directive expected\r\n(2,12): error CS1002: ; expected\r\n(2,38): error CS1002: ; expected",
     "output_type": "error",
     "traceback": [
      "(1,2): error CS1024: Preprocessor directive expected\r\n",
      "(2,12): error CS1002: ; expected\r\n",
      "(2,38): error CS1002: ; expected"
     ]
    }
   ],
   "source": [
    "#fancy colours \n",
    "Write-host \"Fancy!\" -Foregroundcolor Green"
   ]
  },
  {
   "cell_type": "code",
   "execution_count": null,
   "metadata": {},
   "outputs": [],
   "source": []
  }
 ],
 "metadata": {
  "kernelspec": {
   "display_name": ".NET (C#)",
   "language": "C#",
   "name": ".net-csharp"
  },
  "polyglot_notebook": {
   "kernelInfo": {
    "defaultKernelName": "csharp",
    "items": [
     {
      "aliases": [],
      "name": "csharp"
     }
    ]
   }
  }
 },
 "nbformat": 4,
 "nbformat_minor": 2
}
